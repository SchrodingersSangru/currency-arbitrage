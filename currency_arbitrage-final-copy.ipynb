{
 "cells": [
  {
   "cell_type": "code",
   "execution_count": 1,
   "metadata": {},
   "outputs": [],
   "source": [
    "## import section\n",
    "\n",
    "import numpy as np\n",
    "import networkx as nx\n",
    "import dimod\n",
    "import dwave_networkx as dnx\n",
    "from dimod.binary_quadratic_model import BinaryQuadraticModel\n",
    "from dwave.system.composites import EmbeddingComposite\n",
    "import matplotlib.pyplot as plt\n",
    "# magic word for producing visualizations in notebook\n",
    "%matplotlib inline\n",
    "from collections import defaultdict\n",
    "import itertools\n",
    "import pandas as pd\n",
    "\n",
    "\n",
    "from dwave.system import EmbeddingComposite, DWaveSampler\n",
    "from dwave.system import LeapHybridSampler"
   ]
  },
  {
   "cell_type": "code",
   "execution_count": 2,
   "metadata": {},
   "outputs": [],
   "source": [
    "# 0.0  79.68  79.72 0.56  53.53\n",
    "# 0.013  0.0  1.0  142.97  0.67\n",
    "# 0.013  1.0  0.0  143.08  0.68\n",
    "# 1.79 6.007  0.107  0.0  97.37\n",
    "# 0.019  1.48  1.49  0.010 0.0\n",
    "\n",
    "\n",
    "\n",
    "# 1  1.13217  1.11777 120.756\n",
    "# 0.8818 1 0.98804 106.034\n",
    "# 0.892817  1.0075566 1 105.564\n",
    "# 0.00827218 0.009410 0.0092365 1\n"
   ]
  },
  {
   "cell_type": "code",
   "execution_count": 3,
   "metadata": {},
   "outputs": [],
   "source": [
    "from math import log\n",
    "from typing import Tuple, List\n",
    "\n",
    "def negate_logarithm_convertor(graph: Tuple[Tuple[float]]) -> List[List[float]]:\n",
    "    ''' log of each rate in graph and negate it'''\n",
    "    result = [[-log(edge) for edge in row] for row in graph]\n",
    "    return result"
   ]
  },
  {
   "cell_type": "code",
   "execution_count": 4,
   "metadata": {},
   "outputs": [],
   "source": [
    "# fix random seed for reproducibility\n",
    "seed = 123\n",
    "np.random.seed(seed)\n",
    "\n",
    "# load dataset\n",
    "# data = pd.read_csv('five_d.txt', sep='\\s+', header=None)\n",
    "rates = [\n",
    "    [1, 0.23, 0.25, 16.43, 18.21, 4.94],\n",
    "    [4.34, 1, 1.11, 71.40, 79.09, 21.44],\n",
    "    [3.93, 0.90, 1, 64.52, 71.48, 19.37],\n",
    "    [0.061, 0.014, 0.015, 1, 1.11, 0.30],\n",
    "    [0.055, 0.013, 0.014, 0.90, 1, 0.27],\n",
    "    [0.20, 0.047, 0.052, 3.33, 3.69, 1],\n",
    "]\n",
    "#these are the values of differences in the currencies\n",
    "# we can stream realtime values (contineously load) of currencies and place those in a matrix.\n",
    "# currency_vals = data.values\n",
    "## we can even put a window of 1 horus to reload the values and run all code again if values got updated."
   ]
  },
  {
   "cell_type": "code",
   "execution_count": 5,
   "metadata": {},
   "outputs": [],
   "source": [
    "data = pd.DataFrame(rates)"
   ]
  },
  {
   "cell_type": "code",
   "execution_count": 6,
   "metadata": {},
   "outputs": [
    {
     "name": "stdout",
     "output_type": "stream",
     "text": [
      "differnece between currency 2 and currency 1 is 1.11.\n",
      "Total number of currencies: 6\n"
     ]
    }
   ],
   "source": [
    "# distance between two example cities\n",
    "idx_homecurrency = 2\n",
    "idx_currency2 = 1\n",
    "profit = data[idx_homecurrency][idx_currency2]\n",
    "print('differnece between currency {} and currency {} is {}.'.format(idx_homecurrency, idx_currency2, profit))\n",
    "\n",
    "# get number of cities\n",
    "num_currencies = data.shape[0]\n",
    "print('Total number of currencies:', num_currencies)"
   ]
  },
  {
   "cell_type": "code",
   "execution_count": null,
   "metadata": {},
   "outputs": [],
   "source": []
  },
  {
   "cell_type": "code",
   "execution_count": 7,
   "metadata": {},
   "outputs": [],
   "source": [
    "\n",
    "currency_values = data.values\n"
   ]
  },
  {
   "cell_type": "code",
   "execution_count": 8,
   "metadata": {},
   "outputs": [
    {
     "data": {
      "text/plain": [
       "[[-0.0,\n",
       "  1.4696759700589417,\n",
       "  1.3862943611198906,\n",
       "  -2.799108932049177,\n",
       "  -2.9019708937395166,\n",
       "  -1.5973653311998313],\n",
       " [-1.4678743481123135,\n",
       "  -0.0,\n",
       "  -0.10436001532424286,\n",
       "  -4.268297869345539,\n",
       "  -4.370586444531326,\n",
       "  -3.0652583362026014],\n",
       " [-1.3686394258811698,\n",
       "  0.10536051565782628,\n",
       "  -0.0,\n",
       "  -4.166975253257008,\n",
       "  -4.2694176902912275,\n",
       "  -2.9637254774189046],\n",
       " [2.796881414808826,\n",
       "  4.268697949366879,\n",
       "  4.199705077879927,\n",
       "  -0.0,\n",
       "  -0.10436001532424286,\n",
       "  1.2039728043259361],\n",
       " [2.900422093749666,\n",
       "  4.3428059215206005,\n",
       "  4.268697949366879,\n",
       "  0.10536051565782628,\n",
       "  -0.0,\n",
       "  1.3093333199837622],\n",
       " [1.6094379124341003,\n",
       "  3.0576076772720784,\n",
       "  2.9565115604007097,\n",
       "  -1.2029723039923526,\n",
       "  -1.3056264580524357,\n",
       "  -0.0]]"
      ]
     },
     "execution_count": 8,
     "metadata": {},
     "output_type": "execute_result"
    }
   ],
   "source": [
    "currency_data = negate_logarithm_convertor(currency_values)\n",
    "currency_data"
   ]
  },
  {
   "cell_type": "code",
   "execution_count": 9,
   "metadata": {},
   "outputs": [
    {
     "data": {
      "text/html": [
       "<div>\n",
       "<style scoped>\n",
       "    .dataframe tbody tr th:only-of-type {\n",
       "        vertical-align: middle;\n",
       "    }\n",
       "\n",
       "    .dataframe tbody tr th {\n",
       "        vertical-align: top;\n",
       "    }\n",
       "\n",
       "    .dataframe thead th {\n",
       "        text-align: right;\n",
       "    }\n",
       "</style>\n",
       "<table border=\"1\" class=\"dataframe\">\n",
       "  <thead>\n",
       "    <tr style=\"text-align: right;\">\n",
       "      <th></th>\n",
       "      <th>0</th>\n",
       "      <th>1</th>\n",
       "      <th>2</th>\n",
       "      <th>3</th>\n",
       "      <th>4</th>\n",
       "      <th>5</th>\n",
       "    </tr>\n",
       "  </thead>\n",
       "  <tbody>\n",
       "    <tr>\n",
       "      <th>0</th>\n",
       "      <td>-0.000000</td>\n",
       "      <td>1.469676</td>\n",
       "      <td>1.386294</td>\n",
       "      <td>-2.799109</td>\n",
       "      <td>-2.901971</td>\n",
       "      <td>-1.597365</td>\n",
       "    </tr>\n",
       "    <tr>\n",
       "      <th>1</th>\n",
       "      <td>-1.467874</td>\n",
       "      <td>-0.000000</td>\n",
       "      <td>-0.104360</td>\n",
       "      <td>-4.268298</td>\n",
       "      <td>-4.370586</td>\n",
       "      <td>-3.065258</td>\n",
       "    </tr>\n",
       "    <tr>\n",
       "      <th>2</th>\n",
       "      <td>-1.368639</td>\n",
       "      <td>0.105361</td>\n",
       "      <td>-0.000000</td>\n",
       "      <td>-4.166975</td>\n",
       "      <td>-4.269418</td>\n",
       "      <td>-2.963725</td>\n",
       "    </tr>\n",
       "    <tr>\n",
       "      <th>3</th>\n",
       "      <td>2.796881</td>\n",
       "      <td>4.268698</td>\n",
       "      <td>4.199705</td>\n",
       "      <td>-0.000000</td>\n",
       "      <td>-0.104360</td>\n",
       "      <td>1.203973</td>\n",
       "    </tr>\n",
       "    <tr>\n",
       "      <th>4</th>\n",
       "      <td>2.900422</td>\n",
       "      <td>4.342806</td>\n",
       "      <td>4.268698</td>\n",
       "      <td>0.105361</td>\n",
       "      <td>-0.000000</td>\n",
       "      <td>1.309333</td>\n",
       "    </tr>\n",
       "    <tr>\n",
       "      <th>5</th>\n",
       "      <td>1.609438</td>\n",
       "      <td>3.057608</td>\n",
       "      <td>2.956512</td>\n",
       "      <td>-1.202972</td>\n",
       "      <td>-1.305626</td>\n",
       "      <td>-0.000000</td>\n",
       "    </tr>\n",
       "  </tbody>\n",
       "</table>\n",
       "</div>"
      ],
      "text/plain": [
       "          0         1         2         3         4         5\n",
       "0 -0.000000  1.469676  1.386294 -2.799109 -2.901971 -1.597365\n",
       "1 -1.467874 -0.000000 -0.104360 -4.268298 -4.370586 -3.065258\n",
       "2 -1.368639  0.105361 -0.000000 -4.166975 -4.269418 -2.963725\n",
       "3  2.796881  4.268698  4.199705 -0.000000 -0.104360  1.203973\n",
       "4  2.900422  4.342806  4.268698  0.105361 -0.000000  1.309333\n",
       "5  1.609438  3.057608  2.956512 -1.202972 -1.305626 -0.000000"
      ]
     },
     "execution_count": 9,
     "metadata": {},
     "output_type": "execute_result"
    }
   ],
   "source": [
    "currency_df = pd.DataFrame(currency_data)\n",
    "currency_df"
   ]
  },
  {
   "cell_type": "markdown",
   "metadata": {},
   "source": [
    "## Initial Graph for problem"
   ]
  },
  {
   "cell_type": "markdown",
   "metadata": {},
   "source": []
  },
  {
   "cell_type": "code",
   "execution_count": null,
   "metadata": {},
   "outputs": [],
   "source": []
  },
  {
   "cell_type": "code",
   "execution_count": 10,
   "metadata": {},
   "outputs": [
    {
     "name": "stdout",
     "output_type": "stream",
     "text": [
      "Weights of graph: {(0, 0): 1.0, (0, 1): 4.34, (0, 2): 3.93, (0, 3): 0.061, (0, 4): 0.055, (0, 5): 0.2, (1, 1): 1.0, (1, 2): 0.9, (1, 3): 0.014, (1, 4): 0.013, (1, 5): 0.047, (2, 2): 1.0, (2, 3): 0.015, (2, 4): 0.014, (2, 5): 0.052, (3, 3): 1.0, (3, 4): 0.9, (3, 5): 3.33, (4, 4): 1.0, (4, 5): 3.69, (5, 5): 1.0}\n"
     ]
    },
    {
     "data": {
      "image/png": "[encoded data removed]",
      "text/plain": [
       "<Figure size 640x480 with 1 Axes>"
      ]
     },
     "metadata": {},
     "output_type": "display_data"
    }
   ],
   "source": [
    "# G = nx.from_pandas_dataframe(data) \n",
    "G = nx.from_pandas_adjacency(data)\n",
    "# pos = nx.random_layout(G) \n",
    "pos = nx.spring_layout(G, seed=seed)\n",
    "\n",
    "# get characteristics of graph\n",
    "nodes = G.nodes()\n",
    "edges = G.edges()\n",
    "weights = nx.get_edge_attributes(G,'weight');\n",
    "\n",
    "# print weights of graph\n",
    "print('Weights of graph:', weights)\n",
    "\n",
    "# show graph with weights\n",
    "plt.axis('off'); \n",
    "nx.draw_networkx(G, pos, with_labels=True);\n",
    "nx.draw_networkx_edge_labels(G, pos, edge_labels=weights);\n",
    "plt.savefig(\"problem_stmt.png\")"
   ]
  },
  {
   "cell_type": "code",
   "execution_count": null,
   "metadata": {},
   "outputs": [],
   "source": []
  },
  {
   "cell_type": "markdown",
   "metadata": {},
   "source": [
    "## problem formulation"
   ]
  },
  {
   "cell_type": "markdown",
   "metadata": {},
   "source": []
  },
  {
   "cell_type": "code",
   "execution_count": 11,
   "metadata": {},
   "outputs": [],
   "source": [
    "# get QUBO for TSP\n",
    "## define objective for tsp in qubo format\n",
    "tsp_qubo = dnx.algorithms.tsp.traveling_salesperson_qubo(G)"
   ]
  },
  {
   "cell_type": "code",
   "execution_count": 12,
   "metadata": {},
   "outputs": [],
   "source": [
    "def get_profit(path, data):\n",
    "    \"\"\"\n",
    "    find distance for given path = [0, 4, 3, 1, 2] and original data\n",
    "    \"\"\"\n",
    "    # get the total distance without return\n",
    "    total_profit = 0\n",
    "    base_price = 1\n",
    "    for idx, node in enumerate(path[:-1]):\n",
    "        dist = data[path[idx + 1]][path[idx]]\n",
    "        total_profit += dist\n",
    "\n",
    "    print(\"Total profit (without cycle):\", total_profit)\n",
    "\n",
    "    # add distance between start and end point to complete cycle\n",
    "    return_profit= data[path[0]][path[-1]]\n",
    "    # print('Distance between start and end:', return_distance)\n",
    "\n",
    "    # get distance for full cycle\n",
    "    profit_with_cycle = total_profit + return_profit\n",
    "    print(\"Total profit (including cycle):\", profit_with_cycle)\n",
    "\n",
    "    return total_profit, profit_with_cycle"
   ]
  },
  {
   "cell_type": "code",
   "execution_count": 13,
   "metadata": {},
   "outputs": [
    {
     "name": "stdout",
     "output_type": "stream",
     "text": [
      "Default Lagrange parameter: 6.731714285714285\n"
     ]
    }
   ],
   "source": [
    "# find default Langrange parameter for enforcing constraints\n",
    "\n",
    "# set parameters\n",
    "lagrange = None\n",
    "weight='weight'\n",
    "\n",
    "# get corresponding QUBO step by step\n",
    "N = G.number_of_nodes()\n",
    "\n",
    "if lagrange is None:\n",
    "    # If no lagrange parameter provided, set to 'average' tour length.\n",
    "    # Usually a good estimate for a lagrange parameter is between 75-150%\n",
    "    # of the objective function value, so we come up with an estimate for \n",
    "    # tour length and use that.\n",
    "    if G.number_of_edges()>0:\n",
    "        lagrange = G.size(weight=weight)*G.number_of_nodes()/G.number_of_edges()\n",
    "    else:\n",
    "        lagrange = 2\n",
    "\n",
    "print('Default Lagrange parameter:', lagrange)   \n",
    "\n",
    "# create list around default value for HPO \n",
    "lagrange_list= list(np.arange(int(0.8*lagrange), int(1.1*lagrange)))\n",
    "# print('Lagrange parameter for HPO:', lagrange_list)"
   ]
  },
  {
   "cell_type": "code",
   "execution_count": 14,
   "metadata": {},
   "outputs": [],
   "source": [
    "# lagrange = 5\n",
    "lagrange_list = [6.731714285714285]"
   ]
  },
  {
   "cell_type": "markdown",
   "metadata": {},
   "source": [
    "## solution with simulated annealing"
   ]
  },
  {
   "cell_type": "markdown",
   "metadata": {},
   "source": []
  },
  {
   "cell_type": "code",
   "execution_count": 15,
   "metadata": {},
   "outputs": [
    {
     "name": "stdout",
     "output_type": "stream",
     "text": [
      "path found with simulated annealing: [0, 2, 3, 5, 4, 1]\n"
     ]
    }
   ],
   "source": [
    "# use (classical) simulated annealing\n",
    "sampler = dimod.SimulatedAnnealingSampler()\n",
    "path = dnx.traveling_salesperson(G, sampler, start=0)\n",
    "print('path found with simulated annealing:', path)\n",
    "\n",
    "# # get the total distance\n",
    "# total_profit= 0\n",
    "# for idx, node in enumerate(path[:-1]):\n",
    "#     prof = data[path[idx+1]][path[idx]]\n",
    "#     total_profit += prof\n",
    "\n",
    "# print('Total profit (without cycle):', total_profit)\n",
    "\n",
    "# # add distance between start and end point to complete cycle\n",
    "# return_profit = data[path[0]][path[-1]]\n",
    "# print('profit between start and end:', return_profit)\n",
    "\n",
    "# # get distance for full cyle \n",
    "# profit = total_profit + return_profit\n",
    "# print('Total profit (including cycle):', profit)"
   ]
  },
  {
   "cell_type": "code",
   "execution_count": 16,
   "metadata": {},
   "outputs": [
    {
     "data": {
      "text/plain": [
       "[0, 2, 3, 5, 4, 1]"
      ]
     },
     "execution_count": 16,
     "metadata": {},
     "output_type": "execute_result"
    }
   ],
   "source": [
    "# [0, 3, 1, 2, 0]\n",
    "[0, 2, 3, 5, 4, 1]"
   ]
  },
  {
   "cell_type": "code",
   "execution_count": 17,
   "metadata": {},
   "outputs": [],
   "source": [
    "path.append(0)"
   ]
  },
  {
   "cell_type": "code",
   "execution_count": 18,
   "metadata": {},
   "outputs": [
    {
     "data": {
      "text/plain": [
       "[0, 2, 3, 5, 4, 1, 0]"
      ]
     },
     "execution_count": 18,
     "metadata": {},
     "output_type": "execute_result"
    }
   ],
   "source": [
    "# path = path.append(0)\n",
    "path"
   ]
  },
  {
   "cell_type": "code",
   "execution_count": 19,
   "metadata": {},
   "outputs": [],
   "source": [
    "# print(best\n",
    "# _path)"
   ]
  },
  {
   "cell_type": "code",
   "execution_count": 20,
   "metadata": {},
   "outputs": [
    {
     "name": "stdout",
     "output_type": "stream",
     "text": [
      "[0, 2, 3, 5, 4, 1, 0]\n"
     ]
    },
    {
     "data": {
      "text/plain": [
       "1.0074304421999998"
      ]
     },
     "execution_count": 20,
     "metadata": {},
     "output_type": "execute_result"
    }
   ],
   "source": [
    "def total_cost(mat,path):\n",
    "    cost=1\n",
    "    for i in range(len(path)-1):\n",
    "        cost=cost*(mat[path[i]][path[i+1]])\n",
    "    return cost\n",
    "# mat=[[1,1.13217,1.11797,120.756],[0.8818,1,0.9880,106.034],[0.89281,1.00755,1,105.564],[0.008272,0.00941,0.009236,1]]\n",
    "l= path\n",
    "print(l)\n",
    "total_cost(data.values,l)"
   ]
  },
  {
   "cell_type": "code",
   "execution_count": null,
   "metadata": {},
   "outputs": [],
   "source": []
  },
  {
   "cell_type": "code",
   "execution_count": 21,
   "metadata": {},
   "outputs": [
    {
     "data": {
      "text/plain": [
       "1002.3867565922493"
      ]
     },
     "execution_count": 21,
     "metadata": {},
     "output_type": "execute_result"
    }
   ],
   "source": [
    "1.0023867565922493*1000"
   ]
  },
  {
   "cell_type": "markdown",
   "metadata": {},
   "source": [
    "## Dwave sampler"
   ]
  },
  {
   "cell_type": "markdown",
   "metadata": {},
   "source": []
  },
  {
   "cell_type": "code",
   "execution_count": 22,
   "metadata": {},
   "outputs": [
    {
     "name": "stdout",
     "output_type": "stream",
     "text": [
      "Running quantum annealing for TSP with Lagrange parameter= 6.731714285714285\n",
      "path found with D-Wave: [0, 2, 3, 5, 4, 1]\n",
      "Total profit (without cycle): 68.773\n",
      "Total profit (including cycle): 73.113\n",
      "---FINAL SOLUTION---\n",
      "Best solution found with D-Wave: [0, 2, 3, 5, 4, 1]\n",
      "Total [profit] (including cycle): 73.113\n"
     ]
    }
   ],
   "source": [
    "# run TSP with imported TSP routine\n",
    "sampler = DWaveSampler()\n",
    "sampler = EmbeddingComposite(sampler)\n",
    "\n",
    "# set parameters\n",
    "num_shots = 1000\n",
    "start_curr = 0\n",
    "best_profit = sum(weights.values())\n",
    "best_path = [None]*len(G)\n",
    "\n",
    "# run HPO to find route\n",
    "for lagrange in lagrange_list:\n",
    "    print('Running quantum annealing for TSP with Lagrange parameter=', lagrange)\n",
    "    path = dnx.traveling_salesperson(G, sampler, lagrange=lagrange, \n",
    "                                  start=start_curr, num_reads=num_shots, answer_mode=\"histogram\")\n",
    "    # print route \n",
    "    print('path found with D-Wave:', path)\n",
    "    \n",
    "    # print distance\n",
    "    total_profit, round_profit = get_profit(path, data)\n",
    "    \n",
    "    # update best values\n",
    "    if round_profit > best_profit:\n",
    "        best_profit = round_profit\n",
    "        best_path = path\n",
    "\n",
    "print('---FINAL SOLUTION---') \n",
    "print('Best solution found with D-Wave:', best_path)\n",
    "print('Total [profit] (including cycle):', best_profit)"
   ]
  },
  {
   "cell_type": "code",
   "execution_count": 23,
   "metadata": {},
   "outputs": [
    {
     "name": "stdout",
     "output_type": "stream",
     "text": [
      "Total profit (including cycle): 73.113\n"
     ]
    }
   ],
   "source": [
    "print('Total profit (including cycle):', best_profit)"
   ]
  },
  {
   "cell_type": "code",
   "execution_count": 24,
   "metadata": {},
   "outputs": [
    {
     "name": "stdout",
     "output_type": "stream",
     "text": [
      "[0, 2, 3, 5, 4, 1, 0]\n"
     ]
    }
   ],
   "source": [
    "best_path.append(0)\n",
    "print(best_path)"
   ]
  },
  {
   "cell_type": "code",
   "execution_count": 25,
   "metadata": {},
   "outputs": [
    {
     "data": {
      "image/png": "[encoded data removed]",
      "text/plain": [
       "<Figure size 640x480 with 1 Axes>"
      ]
     },
     "metadata": {},
     "output_type": "display_data"
    }
   ],
   "source": [
    "# get mapping from original nodes to position in cycle\n",
    "node_labels = {list(nodes)[ii]: best_path[ii] for ii in range(num_currencies)}\n",
    "\n",
    "# Construct route as list of (node_i, node_i+1)\n",
    "sol_graph_base = [(best_path[idx], best_path[idx+1]) for idx in range(len(best_path)-1)]\n",
    "# Establish weights between nodes along route, allowing for mirrored keys (i.e. weights[(0, 1)] = weights[(1, 0)])\n",
    "best_weights = {k: weights[k] if k in weights.keys() else weights[(k[1],k[0])] for k in sol_graph_base}\n",
    "# Rebuild graph containing only route connections\n",
    "G_best = nx.Graph(sol_graph_base)\n",
    "\n",
    "route_labels =  {x: f'step_{i}' for i, x in enumerate(sol_graph_base)} \n",
    "#{x: f'step_{i}={best_weights[x]}' for i, x in enumerate(sol_graph_base)}\n",
    "\n",
    "# show solution\n",
    "plt.axis('off'); \n",
    "nx.draw_networkx(G_best, pos, font_color='w');\n",
    "nx.draw_networkx_edge_labels(G_best, pos, edge_labels=route_labels, label_pos=0.25);\n",
    "plt.savefig(\"final_solution.png\")"
   ]
  },
  {
   "cell_type": "code",
   "execution_count": null,
   "metadata": {},
   "outputs": [],
   "source": []
  },
  {
   "cell_type": "markdown",
   "metadata": {},
   "source": [
    "## conclusion"
   ]
  },
  {
   "cell_type": "markdown",
   "metadata": {},
   "source": [
    "### in this way, we have completed our job to maxmizing the profit."
   ]
  },
  {
   "cell_type": "markdown",
   "metadata": {},
   "source": []
  }
 ],
 "metadata": {
  "kernelspec": {
   "display_name": "Python 3.10.4 ('base')",
   "language": "python",
   "name": "python3"
  },
  "language_info": {
   "codemirror_mode": {
    "name": "ipython",
    "version": 3
   },
   "file_extension": ".py",
   "mimetype": "text/x-python",
   "name": "python",
   "nbconvert_exporter": "python",
   "pygments_lexer": "ipython3",
   "version": "3.9.15"
  },
  "orig_nbformat": 4,
  "vscode": {
   "interpreter": {
    "hash": "ec4f86e2ad5271fd0e102874d38a0ecd55459da7f4bc31829ba58e069f3ee20d"
   }
  }
 },
 "nbformat": 4,
 "nbformat_minor": 2
}
